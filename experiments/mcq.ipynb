{
 "cells": [
  {
   "cell_type": "code",
   "execution_count": 8,
   "metadata": {},
   "outputs": [],
   "source": [
    "import os \n",
    "import pandas as pd \n",
    "import json \n",
    "import traceback"
   ]
  },
  {
   "cell_type": "code",
   "execution_count": 9,
   "metadata": {},
   "outputs": [],
   "source": [
    "from langchain.chat_models import ChatOpenAI"
   ]
  },
  {
   "cell_type": "code",
   "execution_count": 10,
   "metadata": {},
   "outputs": [
    {
     "data": {
      "text/plain": [
       "True"
      ]
     },
     "execution_count": 10,
     "metadata": {},
     "output_type": "execute_result"
    }
   ],
   "source": [
    "from dotenv import load_dotenv\n",
    "\n",
    "load_dotenv() # take environment variable from .env"
   ]
  },
  {
   "cell_type": "code",
   "execution_count": 11,
   "metadata": {},
   "outputs": [],
   "source": [
    "key = os.getenv(\"OPENAI_API_KEY\")"
   ]
  },
  {
   "cell_type": "code",
   "execution_count": 12,
   "metadata": {},
   "outputs": [],
   "source": [
    "llm = ChatOpenAI(openai_api_key = key, model_name='gpt-3.5-turbo', temperature=0.5)"
   ]
  },
  {
   "cell_type": "code",
   "execution_count": 13,
   "metadata": {},
   "outputs": [
    {
     "data": {
      "text/plain": [
       "ChatOpenAI(client=<openai.resources.chat.completions.Completions object at 0x7955e6508fd0>, async_client=<openai.resources.chat.completions.AsyncCompletions object at 0x7955e650ada0>, temperature=0.5, openai_api_key='sk-proj-fErHxrfGpuyBYjT48YNST3BlbkFJc43sjaUOX096QPkvSEXf', openai_proxy='')"
      ]
     },
     "execution_count": 13,
     "metadata": {},
     "output_type": "execute_result"
    }
   ],
   "source": [
    "llm"
   ]
  },
  {
   "cell_type": "code",
   "execution_count": 14,
   "metadata": {},
   "outputs": [],
   "source": [
    "from langchain.llms import OpenAI\n",
    "from langchain.prompts import PromptTemplate \n",
    "from langchain.chains import LLMChain\n",
    "from langchain.chains import SequentialChain\n",
    "from langchain.callbacks import get_openai_callback\n",
    "import PyPDF2"
   ]
  },
  {
   "cell_type": "code",
   "execution_count": 15,
   "metadata": {},
   "outputs": [],
   "source": [
    "# response fromat \n",
    "RESPONSE_JSON={\n",
    "    \"1\":{\n",
    "        \"mcq\": \"multiple choice question\",\n",
    "        \"options\": {\n",
    "            \"a\": \"choice here\",\n",
    "            \"b\": \"choice here\",\n",
    "            \"c\": \"choice here\",\n",
    "            \"d\": \"choice here\"\n",
    "        },\n",
    "        \"correct\" : \"correct answer\",\n",
    "    },\n",
    "    \"2\":{\n",
    "        \"mcq\": \"multiple choice question\",\n",
    "        \"options\": {\n",
    "            \"a\": \"choice here\",\n",
    "            \"b\": \"choice here\",\n",
    "            \"c\": \"choice here\",\n",
    "            \"d\": \"choice here\"\n",
    "        },\n",
    "        \"correct\" : \"correct answer\",\n",
    "    },\n",
    "    \"3\":{\n",
    "        \"mcq\": \"multiple choice question\",\n",
    "        \"options\": {\n",
    "            \"a\": \"choice here\",\n",
    "            \"b\": \"choice here\",\n",
    "            \"c\": \"choice here\",\n",
    "            \"d\": \"choice here\"\n",
    "        },\n",
    "        \"correct\" : \"correct answer\",\n",
    "    },\n",
    "}"
   ]
  },
  {
   "cell_type": "code",
   "execution_count": 16,
   "metadata": {},
   "outputs": [],
   "source": [
    "prompt_template = \"\"\"\n",
    "Text:{text}\n",
    "You are an expert MCQ maker. Given the above text, it is you job to create a quiz of \\\n",
    "{number} multiple choice question for {subject} students in {tone} tone.\n",
    "Make sure that the questions are not repeated and check all the questions to be conforming the text as well.\n",
    "Make sure to fromat your response like RESPONSE_JSON below and use it as a guide. \\\n",
    "Ensure to make {number} MCQs\n",
    "### RESPONSE_JSON\n",
    "{response_json}\n",
    "\"\"\""
   ]
  },
  {
   "cell_type": "code",
   "execution_count": 17,
   "metadata": {},
   "outputs": [],
   "source": [
    "# prompt\n",
    "mcq_generation_prompt=PromptTemplate(\n",
    "    input_variables=[\"text\", \"number\", \"subject\", \"tone\", \"response_json\"],\n",
    "    template= prompt_template\n",
    ")"
   ]
  },
  {
   "cell_type": "code",
   "execution_count": 18,
   "metadata": {},
   "outputs": [],
   "source": [
    "# by the chains we are connecting the our model with the prompt \n",
    "mcq_chain = LLMChain(llm = llm, prompt= mcq_generation_prompt, output_key=\"mcq\", verbose=True)"
   ]
  },
  {
   "cell_type": "code",
   "execution_count": 19,
   "metadata": {},
   "outputs": [],
   "source": [
    "# second template for evaluating the quiz\n",
    "prompt_template2=\"\"\"\n",
    "You are an expert english grammarian and writer. Given a Multiple Choice Quiz for {subject} students.\n",
    "You need to evaluate the complexity of the question and give a complete analysis of the quiz. only use at max 50 words for complexity. If the quiz is not as per the cognitive and analytical abilities of the students, \\\n",
    "update the quiz qestions which needs to be changed and change the tone such that it perfectly fits the student abilities.\n",
    "Quiz_MCQs:\n",
    "{mcq}\n",
    "\n",
    "Check from an expert English Writer of the above quiz:\n",
    "\"\"\""
   ]
  },
  {
   "cell_type": "code",
   "execution_count": 20,
   "metadata": {},
   "outputs": [],
   "source": [
    "mcq_evaluation_prompt=PromptTemplate(\n",
    "    input_variables=[\"subject\", \"mcq\"],\n",
    "    template = prompt_template2\n",
    ")"
   ]
  },
  {
   "cell_type": "code",
   "execution_count": 21,
   "metadata": {},
   "outputs": [],
   "source": [
    "review_chain= LLMChain(llm=llm,prompt=mcq_evaluation_prompt, output_key=\"review\", verbose=True)"
   ]
  },
  {
   "cell_type": "code",
   "execution_count": 22,
   "metadata": {},
   "outputs": [],
   "source": [
    "# by using the sequential chain we are connecting both the chains \n",
    "evaluation_chain= SequentialChain(chains=[mcq_chain, review_chain], input_variables=[\"text\", \"number\", \"subject\", \"tone\",\"response_json\"], output_variables=[\"mcq\", \"review\"], verbose=True)"
   ]
  },
  {
   "cell_type": "code",
   "execution_count": 23,
   "metadata": {},
   "outputs": [],
   "source": [
    "file_path=\"/home/umang.rathi/Documents/mcq_generator/data.txt\""
   ]
  },
  {
   "cell_type": "code",
   "execution_count": 24,
   "metadata": {},
   "outputs": [],
   "source": [
    "# open and read the data from the file ehich is used for passing to the model for making quiz \n",
    "with open (file_path, 'r') as file:\n",
    "    text=file.read()"
   ]
  },
  {
   "cell_type": "code",
   "execution_count": 25,
   "metadata": {},
   "outputs": [
    {
     "name": "stdout",
     "output_type": "stream",
     "text": [
      "The term machine learning was coined in 1959 by Arthur Samuel, an IBM employee and pioneer in the field of computer gaming and artificial intelligence. The synonym self-teaching computers was also used in this time period.\n",
      "\n",
      "Although the earliest machine learning model was introduced in the 1950s when Arthur Samuel invented a program that calculated the winning chance in checkers for each side, the history of machine learning roots back to decades of human desire and effort to study human cognitive processes. In 1949, Canadian psychologist Donald Hebb published the book The Organization of Behavior, in which he introduced a theoretical neural structure formed by certain interactions among nerve cells. Hebb's model of neurons interacting with one another set a groundwork for how AIs and machine learning algorithms work under nodes, or artificial neurons used by computers to communicate data. Other researchers who have studied human cognitive systems contributed to the modern machine learning technologies as well, including logician Walter Pitts and Warren McCulloch, who proposed the early mathematical models of neural networks to come up with algorithms that mirror human thought processes.\n",
      "\n",
      "By the early 1960s an experimental \"learning machine\" with punched tape memory, called Cybertron, had been developed by Raytheon Company to analyze sonar signals, electrocardiograms, and speech patterns using rudimentary reinforcement learning. It was repetitively \"trained\" by a human operator/teacher to recognize patterns and equipped with a \"goof\" button to cause it to re-evaluate incorrect decisions. A representative book on research into machine learning during the 1960s was Nilsson's book on Learning Machines, dealing mostly with machine learning for pattern classification.Interest related to pattern recognition continued into the 1970s, as described by Duda and Hart in 1973. In 1981 a report was given on using teaching strategies so that an artificial neural network learns to recognize 40 characters (26 letters, 10 digits, and 4 special symbols) from a computer terminal.\n",
      "\n",
      "Tom M. Mitchell provided a widely quoted, more formal definition of the algorithms studied in the machine learning field: \"A computer program is said to learn from experience E with respect to some class of tasks T and performance measure P if its performance at tasks in T, as measured by P, improves with experience E.\" This definition of the tasks in which machine learning is concerned offers a fundamentally operational definition rather than defining the field in cognitive terms. This follows Alan Turing's proposal in his paper \"Computing Machinery and Intelligence\", in which the question \"Can machines think?\" is replaced with the question \"Can machines do what we (as thinking entities) can do?\".\n",
      "\n",
      "Modern-day machine learning has two objectives. One is to classify data based on models which have been developed; the other purpose is to make predictions for future outcomes based on these models. A hypothetical algorithm specific to classifying data may use computer vision of moles coupled with supervised learning in order to train it to classify the cancerous moles. A machine learning algorithm for stock trading may inform the trader of future potential predictions.\n"
     ]
    }
   ],
   "source": [
    "print(text)"
   ]
  },
  {
   "cell_type": "code",
   "execution_count": 26,
   "metadata": {},
   "outputs": [
    {
     "data": {
      "text/plain": [
       "'{\"1\": {\"mcq\": \"multiple choice question\", \"options\": {\"a\": \"choice here\", \"b\": \"choice here\", \"c\": \"choice here\", \"d\": \"choice here\"}, \"correct\": \"correct answer\"}, \"2\": {\"mcq\": \"multiple choice question\", \"options\": {\"a\": \"choice here\", \"b\": \"choice here\", \"c\": \"choice here\", \"d\": \"choice here\"}, \"correct\": \"correct answer\"}, \"3\": {\"mcq\": \"multiple choice question\", \"options\": {\"a\": \"choice here\", \"b\": \"choice here\", \"c\": \"choice here\", \"d\": \"choice here\"}, \"correct\": \"correct answer\"}}'"
      ]
     },
     "execution_count": 26,
     "metadata": {},
     "output_type": "execute_result"
    }
   ],
   "source": [
    "# convert the python dictionary into a JSON fromatted string \n",
    "json.dumps(RESPONSE_JSON)"
   ]
  },
  {
   "cell_type": "code",
   "execution_count": 27,
   "metadata": {},
   "outputs": [],
   "source": [
    "NUMBER = 5\n",
    "SUBJECT = \"Machine Learning\"\n",
    "tone = \"simple\""
   ]
  },
  {
   "cell_type": "code",
   "execution_count": 29,
   "metadata": {},
   "outputs": [
    {
     "name": "stdout",
     "output_type": "stream",
     "text": [
      "\n",
      "\n",
      "\u001b[1m> Entering new SequentialChain chain...\u001b[0m\n",
      "\n",
      "\n",
      "\u001b[1m> Entering new LLMChain chain...\u001b[0m\n",
      "Prompt after formatting:\n",
      "\u001b[32;1m\u001b[1;3m\n",
      "Text:The term machine learning was coined in 1959 by Arthur Samuel, an IBM employee and pioneer in the field of computer gaming and artificial intelligence. The synonym self-teaching computers was also used in this time period.\n",
      "\n",
      "Although the earliest machine learning model was introduced in the 1950s when Arthur Samuel invented a program that calculated the winning chance in checkers for each side, the history of machine learning roots back to decades of human desire and effort to study human cognitive processes. In 1949, Canadian psychologist Donald Hebb published the book The Organization of Behavior, in which he introduced a theoretical neural structure formed by certain interactions among nerve cells. Hebb's model of neurons interacting with one another set a groundwork for how AIs and machine learning algorithms work under nodes, or artificial neurons used by computers to communicate data. Other researchers who have studied human cognitive systems contributed to the modern machine learning technologies as well, including logician Walter Pitts and Warren McCulloch, who proposed the early mathematical models of neural networks to come up with algorithms that mirror human thought processes.\n",
      "\n",
      "By the early 1960s an experimental \"learning machine\" with punched tape memory, called Cybertron, had been developed by Raytheon Company to analyze sonar signals, electrocardiograms, and speech patterns using rudimentary reinforcement learning. It was repetitively \"trained\" by a human operator/teacher to recognize patterns and equipped with a \"goof\" button to cause it to re-evaluate incorrect decisions. A representative book on research into machine learning during the 1960s was Nilsson's book on Learning Machines, dealing mostly with machine learning for pattern classification.Interest related to pattern recognition continued into the 1970s, as described by Duda and Hart in 1973. In 1981 a report was given on using teaching strategies so that an artificial neural network learns to recognize 40 characters (26 letters, 10 digits, and 4 special symbols) from a computer terminal.\n",
      "\n",
      "Tom M. Mitchell provided a widely quoted, more formal definition of the algorithms studied in the machine learning field: \"A computer program is said to learn from experience E with respect to some class of tasks T and performance measure P if its performance at tasks in T, as measured by P, improves with experience E.\" This definition of the tasks in which machine learning is concerned offers a fundamentally operational definition rather than defining the field in cognitive terms. This follows Alan Turing's proposal in his paper \"Computing Machinery and Intelligence\", in which the question \"Can machines think?\" is replaced with the question \"Can machines do what we (as thinking entities) can do?\".\n",
      "\n",
      "Modern-day machine learning has two objectives. One is to classify data based on models which have been developed; the other purpose is to make predictions for future outcomes based on these models. A hypothetical algorithm specific to classifying data may use computer vision of moles coupled with supervised learning in order to train it to classify the cancerous moles. A machine learning algorithm for stock trading may inform the trader of future potential predictions.\n",
      "You are an expert MCQ maker. Given the above text, it is you job to create a quiz of 5 multiple choice question for Machine Learning students in simple tone.\n",
      "Make sure that the questions are not repeated and check all the questions to be conforming the text as well.\n",
      "Make sure to fromat your response like RESPONSE_JSON below and use it as a guide. Ensure to make 5 MCQs\n",
      "### RESPONSE_JSON\n",
      "{\"1\": {\"mcq\": \"multiple choice question\", \"options\": {\"a\": \"choice here\", \"b\": \"choice here\", \"c\": \"choice here\", \"d\": \"choice here\"}, \"correct\": \"correct answer\"}, \"2\": {\"mcq\": \"multiple choice question\", \"options\": {\"a\": \"choice here\", \"b\": \"choice here\", \"c\": \"choice here\", \"d\": \"choice here\"}, \"correct\": \"correct answer\"}, \"3\": {\"mcq\": \"multiple choice question\", \"options\": {\"a\": \"choice here\", \"b\": \"choice here\", \"c\": \"choice here\", \"d\": \"choice here\"}, \"correct\": \"correct answer\"}}\n",
      "\u001b[0m\n",
      "\n",
      "\u001b[1m> Finished chain.\u001b[0m\n",
      "\n",
      "\n",
      "\u001b[1m> Entering new LLMChain chain...\u001b[0m\n",
      "Prompt after formatting:\n",
      "\u001b[32;1m\u001b[1;3m\n",
      "You are an expert english grammarian and writer. Given a Multiple Choice Quiz for Machine Learning students.\n",
      "You need to evaluate the complexity of the question and give a complete analysis of the quiz. only use at max 50 words for complexity. If the quiz is not as per the cognitive and analytical abilities of the students, update the quiz qestions which needs to be changed and change the tone such that it perfectly fits the student abilities.\n",
      "Quiz_MCQs:\n",
      "\n",
      "{\n",
      "    \"1\": {\n",
      "        \"mcq\": \"Who coined the term 'machine learning' in 1959?\",\n",
      "        \"options\": {\n",
      "            \"a\": \"Donald Hebb\",\n",
      "            \"b\": \"Walter Pitts\",\n",
      "            \"c\": \"Arthur Samuel\",\n",
      "            \"d\": \"Raytheon Company\"\n",
      "        },\n",
      "        \"correct\": \"c\"\n",
      "    },\n",
      "    \"2\": {\n",
      "        \"mcq\": \"What was the early machine learning model introduced by Arthur Samuel in the 1950s?\",\n",
      "        \"options\": {\n",
      "            \"a\": \"Speech recognition\",\n",
      "            \"b\": \"Checkers game analysis\",\n",
      "            \"c\": \"Pattern recognition\",\n",
      "            \"d\": \"Image classification\"\n",
      "        },\n",
      "        \"correct\": \"b\"\n",
      "    },\n",
      "    \"3\": {\n",
      "        \"mcq\": \"Who proposed the early mathematical models of neural networks to come up with algorithms that mirror human thought processes?\",\n",
      "        \"options\": {\n",
      "            \"a\": \"Donald Hebb\",\n",
      "            \"b\": \"Warren McCulloch\",\n",
      "            \"c\": \"Tom M. Mitchell\",\n",
      "            \"d\": \"Alan Turing\"\n",
      "        },\n",
      "        \"correct\": \"b\"\n",
      "    },\n",
      "    \"4\": {\n",
      "        \"mcq\": \"What is the main objective of modern-day machine learning?\",\n",
      "        \"options\": {\n",
      "            \"a\": \"To generate random data\",\n",
      "            \"b\": \"To classify data based on developed models\",\n",
      "            \"c\": \"To predict lottery numbers\",\n",
      "            \"d\": \"To create new programming languages\"\n",
      "        },\n",
      "        \"correct\": \"b\"\n",
      "    },\n",
      "    \"5\": {\n",
      "        \"mcq\": \"According to Tom M. Mitchell, when is a computer program said to learn?\",\n",
      "        \"options\": {\n",
      "            \"a\": \"When it can think like a human\",\n",
      "            \"b\": \"When it can perform tasks better than humans\",\n",
      "            \"c\": \"When its performance improves with experience\",\n",
      "            \"d\": \"When it can predict the future accurately\"\n",
      "        },\n",
      "        \"correct\": \"c\"\n",
      "    }\n",
      "}\n",
      "\n",
      "Check from an expert English Writer of the above quiz:\n",
      "\u001b[0m\n",
      "\n",
      "\u001b[1m> Finished chain.\u001b[0m\n",
      "\n",
      "\u001b[1m> Finished chain.\u001b[0m\n"
     ]
    }
   ],
   "source": [
    "# setup token usuage and tracking the cost using the callbacks \n",
    "with get_openai_callback() as cb:\n",
    "    response = evaluation_chain(\n",
    "        {\n",
    "            \"text\" : text,\n",
    "            \"number\" : NUMBER,\n",
    "            \"subject\" : SUBJECT,\n",
    "            \"tone\" : tone,\n",
    "            \"response_json\" : json.dumps(RESPONSE_JSON)\n",
    "        }\n",
    "    )\n"
   ]
  },
  {
   "cell_type": "code",
   "execution_count": 32,
   "metadata": {},
   "outputs": [
    {
     "name": "stdout",
     "output_type": "stream",
     "text": [
      "Total tokens : 1863\n",
      "Prompt Tokens : 1394\n",
      "Completios Token : 469\n",
      "Total Cost : 0.003029\n"
     ]
    }
   ],
   "source": [
    "# print(cb)\n",
    "print(f\"Total tokens : {cb.total_tokens}\")\n",
    "print(f\"Prompt Tokens : {cb.prompt_tokens}\")\n",
    "print(f\"Completios Token : {cb.completion_tokens}\")\n",
    "print(f\"Total Cost : {cb.total_cost}\")"
   ]
  },
  {
   "cell_type": "code",
   "execution_count": 33,
   "metadata": {},
   "outputs": [
    {
     "data": {
      "text/plain": [
       "{'text': 'The term machine learning was coined in 1959 by Arthur Samuel, an IBM employee and pioneer in the field of computer gaming and artificial intelligence. The synonym self-teaching computers was also used in this time period.\\n\\nAlthough the earliest machine learning model was introduced in the 1950s when Arthur Samuel invented a program that calculated the winning chance in checkers for each side, the history of machine learning roots back to decades of human desire and effort to study human cognitive processes. In 1949, Canadian psychologist Donald Hebb published the book The Organization of Behavior, in which he introduced a theoretical neural structure formed by certain interactions among nerve cells. Hebb\\'s model of neurons interacting with one another set a groundwork for how AIs and machine learning algorithms work under nodes, or artificial neurons used by computers to communicate data. Other researchers who have studied human cognitive systems contributed to the modern machine learning technologies as well, including logician Walter Pitts and Warren McCulloch, who proposed the early mathematical models of neural networks to come up with algorithms that mirror human thought processes.\\n\\nBy the early 1960s an experimental \"learning machine\" with punched tape memory, called Cybertron, had been developed by Raytheon Company to analyze sonar signals, electrocardiograms, and speech patterns using rudimentary reinforcement learning. It was repetitively \"trained\" by a human operator/teacher to recognize patterns and equipped with a \"goof\" button to cause it to re-evaluate incorrect decisions. A representative book on research into machine learning during the 1960s was Nilsson\\'s book on Learning Machines, dealing mostly with machine learning for pattern classification.Interest related to pattern recognition continued into the 1970s, as described by Duda and Hart in 1973. In 1981 a report was given on using teaching strategies so that an artificial neural network learns to recognize 40 characters (26 letters, 10 digits, and 4 special symbols) from a computer terminal.\\n\\nTom M. Mitchell provided a widely quoted, more formal definition of the algorithms studied in the machine learning field: \"A computer program is said to learn from experience E with respect to some class of tasks T and performance measure P if its performance at tasks in T, as measured by P, improves with experience E.\" This definition of the tasks in which machine learning is concerned offers a fundamentally operational definition rather than defining the field in cognitive terms. This follows Alan Turing\\'s proposal in his paper \"Computing Machinery and Intelligence\", in which the question \"Can machines think?\" is replaced with the question \"Can machines do what we (as thinking entities) can do?\".\\n\\nModern-day machine learning has two objectives. One is to classify data based on models which have been developed; the other purpose is to make predictions for future outcomes based on these models. A hypothetical algorithm specific to classifying data may use computer vision of moles coupled with supervised learning in order to train it to classify the cancerous moles. A machine learning algorithm for stock trading may inform the trader of future potential predictions.',\n",
       " 'number': 5,\n",
       " 'subject': 'Machine Learning',\n",
       " 'tone': 'simple',\n",
       " 'response_json': '{\"1\": {\"mcq\": \"multiple choice question\", \"options\": {\"a\": \"choice here\", \"b\": \"choice here\", \"c\": \"choice here\", \"d\": \"choice here\"}, \"correct\": \"correct answer\"}, \"2\": {\"mcq\": \"multiple choice question\", \"options\": {\"a\": \"choice here\", \"b\": \"choice here\", \"c\": \"choice here\", \"d\": \"choice here\"}, \"correct\": \"correct answer\"}, \"3\": {\"mcq\": \"multiple choice question\", \"options\": {\"a\": \"choice here\", \"b\": \"choice here\", \"c\": \"choice here\", \"d\": \"choice here\"}, \"correct\": \"correct answer\"}}',\n",
       " 'mcq': '\\n{\\n    \"1\": {\\n        \"mcq\": \"Who coined the term \\'machine learning\\' in 1959?\",\\n        \"options\": {\\n            \"a\": \"Donald Hebb\",\\n            \"b\": \"Walter Pitts\",\\n            \"c\": \"Arthur Samuel\",\\n            \"d\": \"Raytheon Company\"\\n        },\\n        \"correct\": \"c\"\\n    },\\n    \"2\": {\\n        \"mcq\": \"What was the early machine learning model introduced by Arthur Samuel in the 1950s?\",\\n        \"options\": {\\n            \"a\": \"Speech recognition\",\\n            \"b\": \"Checkers game analysis\",\\n            \"c\": \"Pattern recognition\",\\n            \"d\": \"Image classification\"\\n        },\\n        \"correct\": \"b\"\\n    },\\n    \"3\": {\\n        \"mcq\": \"Who proposed the early mathematical models of neural networks to come up with algorithms that mirror human thought processes?\",\\n        \"options\": {\\n            \"a\": \"Donald Hebb\",\\n            \"b\": \"Warren McCulloch\",\\n            \"c\": \"Tom M. Mitchell\",\\n            \"d\": \"Alan Turing\"\\n        },\\n        \"correct\": \"b\"\\n    },\\n    \"4\": {\\n        \"mcq\": \"What is the main objective of modern-day machine learning?\",\\n        \"options\": {\\n            \"a\": \"To generate random data\",\\n            \"b\": \"To classify data based on developed models\",\\n            \"c\": \"To predict lottery numbers\",\\n            \"d\": \"To create new programming languages\"\\n        },\\n        \"correct\": \"b\"\\n    },\\n    \"5\": {\\n        \"mcq\": \"According to Tom M. Mitchell, when is a computer program said to learn?\",\\n        \"options\": {\\n            \"a\": \"When it can think like a human\",\\n            \"b\": \"When it can perform tasks better than humans\",\\n            \"c\": \"When its performance improves with experience\",\\n            \"d\": \"When it can predict the future accurately\"\\n        },\\n        \"correct\": \"c\"\\n    }\\n}',\n",
       " 'review': 'The complexity of the quiz is appropriate for Machine Learning students. The questions cover key historical figures and concepts in the field. The language used is clear and concise. No changes are needed as the tone and difficulty level are suitable for the target audience.'}"
      ]
     },
     "execution_count": 33,
     "metadata": {},
     "output_type": "execute_result"
    }
   ],
   "source": [
    "response"
   ]
  },
  {
   "cell_type": "code",
   "execution_count": 49,
   "metadata": {},
   "outputs": [],
   "source": [
    "mcq = response.get('mcq')"
   ]
  },
  {
   "cell_type": "code",
   "execution_count": 50,
   "metadata": {},
   "outputs": [],
   "source": [
    "# json.dumps -> serialize the pyhton object into a JSON formatted string \n",
    "# json.loads -> parse the json string and convert it into a python dictionary or list according to format.\n",
    "mcq = json.loads(mcq)"
   ]
  },
  {
   "cell_type": "code",
   "execution_count": 51,
   "metadata": {},
   "outputs": [
    {
     "data": {
      "text/plain": [
       "{'1': {'mcq': \"Who coined the term 'machine learning' in 1959?\",\n",
       "  'options': {'a': 'Donald Hebb',\n",
       "   'b': 'Walter Pitts',\n",
       "   'c': 'Arthur Samuel',\n",
       "   'd': 'Raytheon Company'},\n",
       "  'correct': 'c'},\n",
       " '2': {'mcq': 'What was the early machine learning model introduced by Arthur Samuel in the 1950s?',\n",
       "  'options': {'a': 'Speech recognition',\n",
       "   'b': 'Checkers game analysis',\n",
       "   'c': 'Pattern recognition',\n",
       "   'd': 'Image classification'},\n",
       "  'correct': 'b'},\n",
       " '3': {'mcq': 'Who proposed the early mathematical models of neural networks to come up with algorithms that mirror human thought processes?',\n",
       "  'options': {'a': 'Donald Hebb',\n",
       "   'b': 'Warren McCulloch',\n",
       "   'c': 'Tom M. Mitchell',\n",
       "   'd': 'Alan Turing'},\n",
       "  'correct': 'b'},\n",
       " '4': {'mcq': 'What is the main objective of modern-day machine learning?',\n",
       "  'options': {'a': 'To generate random data',\n",
       "   'b': 'To classify data based on developed models',\n",
       "   'c': 'To predict lottery numbers',\n",
       "   'd': 'To create new programming languages'},\n",
       "  'correct': 'b'},\n",
       " '5': {'mcq': 'According to Tom M. Mitchell, when is a computer program said to learn?',\n",
       "  'options': {'a': 'When it can think like a human',\n",
       "   'b': 'When it can perform tasks better than humans',\n",
       "   'c': 'When its performance improves with experience',\n",
       "   'd': 'When it can predict the future accurately'},\n",
       "  'correct': 'c'}}"
      ]
     },
     "execution_count": 51,
     "metadata": {},
     "output_type": "execute_result"
    }
   ],
   "source": [
    "mcq"
   ]
  },
  {
   "cell_type": "code",
   "execution_count": 52,
   "metadata": {},
   "outputs": [],
   "source": [
    "mcq_data = []\n",
    "for key,value in mcq.items():\n",
    "    mcq = value['mcq']\n",
    "    options = \" | \".join(\n",
    "        [\n",
    "            f\"{option} : {option_value}\"\n",
    "            for option, option_value in value['options'].items()\n",
    "        ]\n",
    "    )\n",
    "    correct = value['correct']\n",
    "    mcq_data.append({\"MCQ\" : mcq, \"Choices\" : options, \"Correct\" : correct})"
   ]
  },
  {
   "cell_type": "code",
   "execution_count": 53,
   "metadata": {},
   "outputs": [
    {
     "data": {
      "text/plain": [
       "[{'MCQ': \"Who coined the term 'machine learning' in 1959?\",\n",
       "  'Choices': 'a : Donald Hebb | b : Walter Pitts | c : Arthur Samuel | d : Raytheon Company',\n",
       "  'Correct': 'c'},\n",
       " {'MCQ': 'What was the early machine learning model introduced by Arthur Samuel in the 1950s?',\n",
       "  'Choices': 'a : Speech recognition | b : Checkers game analysis | c : Pattern recognition | d : Image classification',\n",
       "  'Correct': 'b'},\n",
       " {'MCQ': 'Who proposed the early mathematical models of neural networks to come up with algorithms that mirror human thought processes?',\n",
       "  'Choices': 'a : Donald Hebb | b : Warren McCulloch | c : Tom M. Mitchell | d : Alan Turing',\n",
       "  'Correct': 'b'},\n",
       " {'MCQ': 'What is the main objective of modern-day machine learning?',\n",
       "  'Choices': 'a : To generate random data | b : To classify data based on developed models | c : To predict lottery numbers | d : To create new programming languages',\n",
       "  'Correct': 'b'},\n",
       " {'MCQ': 'According to Tom M. Mitchell, when is a computer program said to learn?',\n",
       "  'Choices': 'a : When it can think like a human | b : When it can perform tasks better than humans | c : When its performance improves with experience | d : When it can predict the future accurately',\n",
       "  'Correct': 'c'}]"
      ]
     },
     "execution_count": 53,
     "metadata": {},
     "output_type": "execute_result"
    }
   ],
   "source": [
    "mcq_data"
   ]
  },
  {
   "cell_type": "code",
   "execution_count": 55,
   "metadata": {},
   "outputs": [],
   "source": [
    "mcq = pd.DataFrame(mcq_data)"
   ]
  },
  {
   "cell_type": "code",
   "execution_count": 56,
   "metadata": {},
   "outputs": [
    {
     "data": {
      "text/html": [
       "<div>\n",
       "<style scoped>\n",
       "    .dataframe tbody tr th:only-of-type {\n",
       "        vertical-align: middle;\n",
       "    }\n",
       "\n",
       "    .dataframe tbody tr th {\n",
       "        vertical-align: top;\n",
       "    }\n",
       "\n",
       "    .dataframe thead th {\n",
       "        text-align: right;\n",
       "    }\n",
       "</style>\n",
       "<table border=\"1\" class=\"dataframe\">\n",
       "  <thead>\n",
       "    <tr style=\"text-align: right;\">\n",
       "      <th></th>\n",
       "      <th>MCQ</th>\n",
       "      <th>Choices</th>\n",
       "      <th>Correct</th>\n",
       "    </tr>\n",
       "  </thead>\n",
       "  <tbody>\n",
       "    <tr>\n",
       "      <th>0</th>\n",
       "      <td>Who coined the term 'machine learning' in 1959?</td>\n",
       "      <td>a : Donald Hebb | b : Walter Pitts | c : Arthu...</td>\n",
       "      <td>c</td>\n",
       "    </tr>\n",
       "    <tr>\n",
       "      <th>1</th>\n",
       "      <td>What was the early machine learning model intr...</td>\n",
       "      <td>a : Speech recognition | b : Checkers game ana...</td>\n",
       "      <td>b</td>\n",
       "    </tr>\n",
       "    <tr>\n",
       "      <th>2</th>\n",
       "      <td>Who proposed the early mathematical models of ...</td>\n",
       "      <td>a : Donald Hebb | b : Warren McCulloch | c : T...</td>\n",
       "      <td>b</td>\n",
       "    </tr>\n",
       "    <tr>\n",
       "      <th>3</th>\n",
       "      <td>What is the main objective of modern-day machi...</td>\n",
       "      <td>a : To generate random data | b : To classify ...</td>\n",
       "      <td>b</td>\n",
       "    </tr>\n",
       "    <tr>\n",
       "      <th>4</th>\n",
       "      <td>According to Tom M. Mitchell, when is a comput...</td>\n",
       "      <td>a : When it can think like a human | b : When ...</td>\n",
       "      <td>c</td>\n",
       "    </tr>\n",
       "  </tbody>\n",
       "</table>\n",
       "</div>"
      ],
      "text/plain": [
       "                                                 MCQ  \\\n",
       "0    Who coined the term 'machine learning' in 1959?   \n",
       "1  What was the early machine learning model intr...   \n",
       "2  Who proposed the early mathematical models of ...   \n",
       "3  What is the main objective of modern-day machi...   \n",
       "4  According to Tom M. Mitchell, when is a comput...   \n",
       "\n",
       "                                             Choices Correct  \n",
       "0  a : Donald Hebb | b : Walter Pitts | c : Arthu...       c  \n",
       "1  a : Speech recognition | b : Checkers game ana...       b  \n",
       "2  a : Donald Hebb | b : Warren McCulloch | c : T...       b  \n",
       "3  a : To generate random data | b : To classify ...       b  \n",
       "4  a : When it can think like a human | b : When ...       c  "
      ]
     },
     "execution_count": 56,
     "metadata": {},
     "output_type": "execute_result"
    }
   ],
   "source": [
    "mcq"
   ]
  },
  {
   "cell_type": "code",
   "execution_count": 57,
   "metadata": {},
   "outputs": [],
   "source": [
    "mcq.to_csv(\"machine_learning.csv\", index=False)"
   ]
  },
  {
   "cell_type": "code",
   "execution_count": null,
   "metadata": {},
   "outputs": [],
   "source": []
  }
 ],
 "metadata": {
  "kernelspec": {
   "display_name": "Python 3 (ipykernel)",
   "language": "python",
   "name": "python3"
  },
  "language_info": {
   "codemirror_mode": {
    "name": "ipython",
    "version": 3
   },
   "file_extension": ".py",
   "mimetype": "text/x-python",
   "name": "python",
   "nbconvert_exporter": "python",
   "pygments_lexer": "ipython3",
   "version": "3.10.12"
  }
 },
 "nbformat": 4,
 "nbformat_minor": 4
}
